{
 "cells": [
  {
   "cell_type": "code",
   "execution_count": 123,
   "metadata": {},
   "outputs": [],
   "source": [
    "import pandas as pd\n",
    "import numpy as np\n",
    "import xgboost as xgb\n",
    "from sklearn.model_selection import train_test_split\n",
    "from sklearn.model_selection import GridSearchCV, RandomizedSearchCV\n",
    "from sklearn.metrics import mean_squared_error\n",
    "from sklearn.preprocessing import StandardScaler\n",
    "import matplotlib.pyplot as plt\n",
    "from statsmodels.tools import add_constant\n",
    "from statsmodels.regression.linear_model import OLS\n",
    "import shap\n",
    "import itertools\n",
    "import math\n"
   ]
  },
  {
   "cell_type": "code",
   "execution_count": 2,
   "metadata": {},
   "outputs": [
    {
     "data": {
      "text/html": [
       "<div>\n",
       "<style scoped>\n",
       "    .dataframe tbody tr th:only-of-type {\n",
       "        vertical-align: middle;\n",
       "    }\n",
       "\n",
       "    .dataframe tbody tr th {\n",
       "        vertical-align: top;\n",
       "    }\n",
       "\n",
       "    .dataframe thead th {\n",
       "        text-align: right;\n",
       "    }\n",
       "</style>\n",
       "<table border=\"1\" class=\"dataframe\">\n",
       "  <thead>\n",
       "    <tr style=\"text-align: right;\">\n",
       "      <th></th>\n",
       "      <th>Season</th>\n",
       "      <th>MatchID</th>\n",
       "      <th>Date</th>\n",
       "      <th>Time</th>\n",
       "      <th>Round</th>\n",
       "      <th>Day</th>\n",
       "      <th>Venue</th>\n",
       "      <th>Result</th>\n",
       "      <th>GF</th>\n",
       "      <th>GA</th>\n",
       "      <th>...</th>\n",
       "      <th>Dribles Challenged</th>\n",
       "      <th>Dribbles tackled %</th>\n",
       "      <th>Challenges Lost</th>\n",
       "      <th>Total Blocks</th>\n",
       "      <th>Shots Blocked</th>\n",
       "      <th>Passs Blocked</th>\n",
       "      <th>Interceptions</th>\n",
       "      <th>Tackles Plus Interceptions</th>\n",
       "      <th>Clearances</th>\n",
       "      <th>Errors Leading to Shot</th>\n",
       "    </tr>\n",
       "  </thead>\n",
       "  <tbody>\n",
       "    <tr>\n",
       "      <th>0</th>\n",
       "      <td>2023-2024</td>\n",
       "      <td>Paris Saint Germain_Lorient</td>\n",
       "      <td>2023-08-12</td>\n",
       "      <td>21:00</td>\n",
       "      <td>1</td>\n",
       "      <td>Sat</td>\n",
       "      <td>Home</td>\n",
       "      <td>D</td>\n",
       "      <td>0.0</td>\n",
       "      <td>0.0</td>\n",
       "      <td>...</td>\n",
       "      <td>6.0</td>\n",
       "      <td>50.0</td>\n",
       "      <td>3.0</td>\n",
       "      <td>9.0</td>\n",
       "      <td>1.0</td>\n",
       "      <td>8.0</td>\n",
       "      <td>8.0</td>\n",
       "      <td>18</td>\n",
       "      <td>6.0</td>\n",
       "      <td>0.0</td>\n",
       "    </tr>\n",
       "    <tr>\n",
       "      <th>1</th>\n",
       "      <td>2023-2024</td>\n",
       "      <td>Paris Saint Germain_Toulouse</td>\n",
       "      <td>2023-08-19</td>\n",
       "      <td>21:00</td>\n",
       "      <td>2</td>\n",
       "      <td>Sat</td>\n",
       "      <td>Away</td>\n",
       "      <td>D</td>\n",
       "      <td>1.0</td>\n",
       "      <td>1.0</td>\n",
       "      <td>...</td>\n",
       "      <td>14.0</td>\n",
       "      <td>64.3</td>\n",
       "      <td>5.0</td>\n",
       "      <td>10.0</td>\n",
       "      <td>2.0</td>\n",
       "      <td>8.0</td>\n",
       "      <td>6.0</td>\n",
       "      <td>20</td>\n",
       "      <td>6.0</td>\n",
       "      <td>0.0</td>\n",
       "    </tr>\n",
       "    <tr>\n",
       "      <th>2</th>\n",
       "      <td>2023-2024</td>\n",
       "      <td>Paris Saint Germain_Lens</td>\n",
       "      <td>2023-08-26</td>\n",
       "      <td>21:00</td>\n",
       "      <td>3</td>\n",
       "      <td>Sat</td>\n",
       "      <td>Home</td>\n",
       "      <td>W</td>\n",
       "      <td>3.0</td>\n",
       "      <td>1.0</td>\n",
       "      <td>...</td>\n",
       "      <td>10.0</td>\n",
       "      <td>40.0</td>\n",
       "      <td>6.0</td>\n",
       "      <td>10.0</td>\n",
       "      <td>1.0</td>\n",
       "      <td>9.0</td>\n",
       "      <td>4.0</td>\n",
       "      <td>19</td>\n",
       "      <td>11.0</td>\n",
       "      <td>1.0</td>\n",
       "    </tr>\n",
       "    <tr>\n",
       "      <th>3</th>\n",
       "      <td>2023-2024</td>\n",
       "      <td>Paris Saint Germain_Lyon</td>\n",
       "      <td>2023-09-03</td>\n",
       "      <td>20:45</td>\n",
       "      <td>4</td>\n",
       "      <td>Sun</td>\n",
       "      <td>Away</td>\n",
       "      <td>W</td>\n",
       "      <td>4.0</td>\n",
       "      <td>1.0</td>\n",
       "      <td>...</td>\n",
       "      <td>29.0</td>\n",
       "      <td>48.3</td>\n",
       "      <td>15.0</td>\n",
       "      <td>11.0</td>\n",
       "      <td>4.0</td>\n",
       "      <td>7.0</td>\n",
       "      <td>2.0</td>\n",
       "      <td>21</td>\n",
       "      <td>14.0</td>\n",
       "      <td>1.0</td>\n",
       "    </tr>\n",
       "    <tr>\n",
       "      <th>4</th>\n",
       "      <td>2023-2024</td>\n",
       "      <td>Paris Saint Germain_Nice</td>\n",
       "      <td>2023-09-15</td>\n",
       "      <td>21:00</td>\n",
       "      <td>5</td>\n",
       "      <td>Fri</td>\n",
       "      <td>Home</td>\n",
       "      <td>L</td>\n",
       "      <td>2.0</td>\n",
       "      <td>3.0</td>\n",
       "      <td>...</td>\n",
       "      <td>18.0</td>\n",
       "      <td>61.1</td>\n",
       "      <td>7.0</td>\n",
       "      <td>12.0</td>\n",
       "      <td>4.0</td>\n",
       "      <td>8.0</td>\n",
       "      <td>6.0</td>\n",
       "      <td>24</td>\n",
       "      <td>3.0</td>\n",
       "      <td>2.0</td>\n",
       "    </tr>\n",
       "  </tbody>\n",
       "</table>\n",
       "<p>5 rows × 152 columns</p>\n",
       "</div>"
      ],
      "text/plain": [
       "      Season                       MatchID        Date   Time  Round  Day  \\\n",
       "0  2023-2024   Paris Saint Germain_Lorient  2023-08-12  21:00      1  Sat   \n",
       "1  2023-2024  Paris Saint Germain_Toulouse  2023-08-19  21:00      2  Sat   \n",
       "2  2023-2024      Paris Saint Germain_Lens  2023-08-26  21:00      3  Sat   \n",
       "3  2023-2024      Paris Saint Germain_Lyon  2023-09-03  20:45      4  Sun   \n",
       "4  2023-2024      Paris Saint Germain_Nice  2023-09-15  21:00      5  Fri   \n",
       "\n",
       "  Venue Result   GF   GA  ... Dribles Challenged  Dribbles tackled %  \\\n",
       "0  Home      D  0.0  0.0  ...                6.0                50.0   \n",
       "1  Away      D  1.0  1.0  ...               14.0                64.3   \n",
       "2  Home      W  3.0  1.0  ...               10.0                40.0   \n",
       "3  Away      W  4.0  1.0  ...               29.0                48.3   \n",
       "4  Home      L  2.0  3.0  ...               18.0                61.1   \n",
       "\n",
       "   Challenges Lost  Total Blocks  Shots Blocked Passs Blocked Interceptions  \\\n",
       "0              3.0           9.0            1.0           8.0           8.0   \n",
       "1              5.0          10.0            2.0           8.0           6.0   \n",
       "2              6.0          10.0            1.0           9.0           4.0   \n",
       "3             15.0          11.0            4.0           7.0           2.0   \n",
       "4              7.0          12.0            4.0           8.0           6.0   \n",
       "\n",
       "  Tackles Plus Interceptions Clearances  Errors Leading to Shot  \n",
       "0                         18        6.0                     0.0  \n",
       "1                         20        6.0                     0.0  \n",
       "2                         19       11.0                     1.0  \n",
       "3                         21       14.0                     1.0  \n",
       "4                         24        3.0                     2.0  \n",
       "\n",
       "[5 rows x 152 columns]"
      ]
     },
     "execution_count": 2,
     "metadata": {},
     "output_type": "execute_result"
    }
   ],
   "source": [
    "data = pd.read_csv('ligue1_clean.csv')\n",
    "data.head()"
   ]
  },
  {
   "cell_type": "code",
   "execution_count": 3,
   "metadata": {},
   "outputs": [
    {
     "name": "stdout",
     "output_type": "stream",
     "text": [
      "['Season', 'MatchID', 'Date', 'Time', 'Round', 'Day', 'Venue', 'Result', 'GF', 'GA', 'Opponent', 'xG', 'xGA', 'Poss', 'Attendance', 'Captain', 'Formation', 'Referee', 'Team', 'Yellow Cards', 'Red Cards', 'Second Yellow Cards', 'Fouls Committed', 'Fouls Drawn', 'Offsides', 'Own Goals', 'Ball Recoveries', 'Aerial Duels Won', 'Aerial Duels Lost', 'Aerial Duels Won %', 'Passes Completed %', 'Total Passing Distance', 'Progressive Passing Distance', 'Short Passes Completed', 'Short Passes Attempted', 'Short Pass Completion %', 'Medium Passes Completed', 'Medium Passes Attempted', 'Medium Pass Completion %', 'Long Passes Completed', 'Long Passes Attempted', 'Long Pass Completion %', 'Assists', 'Expected Assists Goals', 'Expected Assists', 'Key Passes', 'Passes into Final Third', 'Passes into Penalty Area', 'Crosses into Penalty Area', 'Progressive Passes', 'Total Shots', 'Shots on Target', 'Shots on Target %', 'Goals per Shot', 'Goals per Shot on Target', 'Average Shot Distance', 'Free Kicks Taken', 'Penalty Kicks Scored', 'Penalty Kicks Attempted', 'Non-Penalty Expected Goals', 'Non-Penalty Expected Goals per Shot', 'Goals minus Expected Goals', 'Non-Penalty Goals minus Non_Penalty Expected Goals', 'Total Touches', 'Touches in Defensive Penalty Area', 'Touches in Defensive Third', 'Touches in Midfield Third', 'Touches in Attacking Third', 'Touches in Attacking Penalty Area', 'Live Ball Touches', 'Take-Ons Attempted', 'Successful Take_Ons', 'Successful Take-Ons %', 'Times Tackled during Take-Ons', 'Tackled during Take-Ons %', 'Total Carries', 'Total Carrying Distance', 'Progressive Carrying Distance', 'Progressive Carries', 'Carries into Final Third', 'Carries into Penalty Area', 'Carries Miscontrolled', 'Carries Dispossessed', 'Passes Received', 'Progressive Passes Received', 'Shot Creating Actions', 'Live Ball Passes Leading to Shot', 'Dead Ball Passes Leading to Shot', 'Successful Take-Ons Leading to Shot', 'Shots Leading to another Shot', 'Fouls drawn Leading to Shot', 'Defensive Actions Leading to Shot', 'Goal Creating Actions', 'Live Ball Passes Leading to Goal', 'Dead Ball Passes Leading to Goal', 'Successful Take-Ons Leading to Goal', 'Shots Leading to another Goal-scoring shot', 'Fouls drawn Leading to Goal', 'Defensive Actions Leading to Goal', 'Live Ball Passes', 'Dead Ball Passes', 'Free Kick Passes', 'Through Balls', 'Switches', 'Crosses', 'Throw-ins taken', 'Corner Kicks', 'Inswinging Corner Kicks', 'Outswinging Corner Kicks', 'Straight Corner Kicks', 'Passes completed', 'Passes offside', 'Passes blocked', 'Shots on Target Against', 'Keeper Saves', 'Keeper Save Percentage', 'Clean Sheets', 'Post-Shot Expected Goals', 'Post-Shot Expected Goals minus Goals Allowed', 'Penalty Kicks Against Attempted', 'Penalty Kicks Against', 'Penalty Kicks Against Saved', 'Penalty Kicks Against Missed', 'Passes completed by GK (>40 yards)', 'Passes attempted by GK (>40 yards)', 'Pass Completion % by GK (>40 yards)', 'Passes Attempted by GK', 'Throws Attempted by GK', 'Average Pass Length by GK', 'Goal Kicks Attempted', 'Average Goal Kick Length', 'Crosses Faced', 'Crosses Stopped', 'Crosses Stopped %', 'Defensive Actions Outside Penalty Area by GK', 'Average Distance of Defensive Actions by GK', 'Tackles', 'Tackles Won', 'Tackles in Defensive Third', 'Tackles in Midfield Third', 'Tackles in Attacking Third', 'Dribblers Tackled', 'Dribles Challenged', 'Dribbles tackled %', 'Challenges Lost', 'Total Blocks', 'Shots Blocked', 'Passs Blocked', 'Interceptions', 'Tackles Plus Interceptions', 'Clearances', 'Errors Leading to Shot']\n"
     ]
    }
   ],
   "source": [
    "print(list(data.columns))\n",
    "data.Team.nunique()\n",
    "\n",
    "data=data[['Team', 'Opponent', 'Poss', 'GF', 'xG', 'Fouls Drawn', 'Ball Recoveries','Aerial Duels Won %', 'Passes Completed %','Short Pass Completion %', 'Medium Pass Completion %','Long Pass Completion %','Passes into Final Third', 'Passes into Penalty Area', 'Crosses into Penalty Area', 'Progressive Passes','Total Shots', 'Shots on Target','Free Kicks Taken','Penalty Kicks Attempted', 'Touches in Defensive Penalty Area', 'Touches in Defensive Third', 'Touches in Midfield Third', 'Touches in Attacking Third', 'Touches in Attacking Penalty Area','Successful Take_Ons','Progressive Carries', 'Carries into Final Third','Carries into Penalty Area', 'Through Balls', 'Switches', 'Crosses', 'Corner Kicks']]"
   ]
  },
  {
   "cell_type": "code",
   "execution_count": 4,
   "metadata": {},
   "outputs": [],
   "source": [
    "data_coalition = dict()\n",
    "\n",
    "for team in list(data.Team.unique()):\n",
    "    data_coalition[team] = data[data.Team == team]\n",
    "\n"
   ]
  },
  {
   "cell_type": "code",
   "execution_count": 5,
   "metadata": {},
   "outputs": [],
   "source": [
    "data_test= data.drop(['Team', 'Opponent'], axis=1)\n",
    "data_test = data_test.dropna()\n",
    "X_train, X_test, y_train, y_test = train_test_split(data_test.drop(['xG'], axis=1), data_test.xG, test_size=0.2, random_state=123)"
   ]
  },
  {
   "cell_type": "code",
   "execution_count": 6,
   "metadata": {},
   "outputs": [],
   "source": [
    "# Définir les paramètres du modèle\n",
    "params = {\n",
    "    'max_depth': 5,  # profondeur maximale de l'arbre\n",
    "    'learning_rate': 0.1,  # taux d'apprentissage\n",
    "    'num_parallel_tree': 100,  # nombre d'estimateurs (nombre d'arbres)\n",
    "    'random_state': 42, # graine pour la reproductibilité\n",
    "    'objective': 'reg:squarederror'  # Utiliser la fonction de perte appropriée pour la régression\n",
    "}"
   ]
  },
  {
   "cell_type": "code",
   "execution_count": 9,
   "metadata": {},
   "outputs": [],
   "source": [
    "\n",
    "# Définir les paramètres du modèle\n",
    "params = {\n",
    "    'max_depth': 3,  # profondeur maximale de l'arbre\n",
    "    'learning_rate': 0.1,  # taux d'apprentissage\n",
    "    'num_parallel_tree': 100,  # nombre d'estimateurs (nombre d'arbres)\n",
    "    'random_state': 42, # graine pour la reproductibilité\n",
    "    'objective': 'reg:squarederror'  # Utiliser la fonction de perte appropriée pour la régression\n",
    "}\n",
    "\n",
    "param_grid = {\n",
    "    'max_depth': [3, 6, 9],\n",
    "    'learning_rate': [0.1, 0.05, 0.01],\n",
    "    'n_estimators': [100, 200, 300],\n",
    "    'gamma': [0, 0.1, 0.2],\n",
    "    'subsample': [0.5, 0.75, 1.0],\n",
    "    'colsample_bytree': [0.5, 0.75, 1.0],\n",
    "    'reg_alpha': [0, 0.1, 0.5],\n",
    "    'reg_lambda': [1, 1.5, 2]\n",
    "}\n",
    "\n",
    "\n",
    "xgb_model = xgb.XGBRegressor()\n",
    "xgb_random = RandomizedSearchCV(\n",
    "    estimator=xgb_model,\n",
    "    param_distributions=param_grid,\n",
    "    n_iter=100,\n",
    "    cv=5,\n",
    "    verbose=0,\n",
    "    random_state=42,\n",
    "    n_jobs=-1,\n",
    ")\n",
    "\n",
    "\n"
   ]
  },
  {
   "cell_type": "code",
   "execution_count": 12,
   "metadata": {},
   "outputs": [
    {
     "ename": "AttributeError",
     "evalue": "'RandomizedSearchCV' object has no attribute 'best_params_'",
     "output_type": "error",
     "traceback": [
      "\u001b[0;31m---------------------------------------------------------------------------\u001b[0m",
      "\u001b[0;31mAttributeError\u001b[0m                            Traceback (most recent call last)",
      "\u001b[0;32m/var/folders/3x/j1pz2s1n0pv35lt68s_qlkh80000gn/T/ipykernel_8380/2796264068.py\u001b[0m in \u001b[0;36m<module>\u001b[0;34m\u001b[0m\n\u001b[0;32m----> 1\u001b[0;31m \u001b[0mxgb_random\u001b[0m\u001b[0;34m.\u001b[0m\u001b[0mbest_params_\u001b[0m\u001b[0;34m\u001b[0m\u001b[0;34m\u001b[0m\u001b[0m\n\u001b[0m",
      "\u001b[0;31mAttributeError\u001b[0m: 'RandomizedSearchCV' object has no attribute 'best_params_'"
     ]
    }
   ],
   "source": [
    "grid_search = GridSearchCV(estimator=xgb_model, param_grid=param_grid, scoring='neg_mean_squared_error', cv=5, verbose=0)\n",
    "\n",
    "# Adapter les données d'entraînement\n",
    "grid_search.fit(X_train, y_train)"
   ]
  },
  {
   "cell_type": "code",
   "execution_count": 13,
   "metadata": {},
   "outputs": [],
   "source": [
    "model = xgb.XGBRegressor(**params).fit(X_train, y_train)\n"
   ]
  },
  {
   "cell_type": "code",
   "execution_count": 14,
   "metadata": {},
   "outputs": [
    {
     "data": {
      "text/plain": [
       "0.7347870094429335"
      ]
     },
     "execution_count": 14,
     "metadata": {},
     "output_type": "execute_result"
    }
   ],
   "source": [
    "\n",
    "y_pred1= model.predict(X_test)\n",
    "\n",
    "mse2 = mean_squared_error(y_test, y_pred1)\n",
    "model.score(X_test, y_test)"
   ]
  },
  {
   "cell_type": "code",
   "execution_count": 15,
   "metadata": {},
   "outputs": [
    {
     "data": {
      "text/plain": [
       "0.14948384420429875"
      ]
     },
     "execution_count": 15,
     "metadata": {},
     "output_type": "execute_result"
    }
   ],
   "source": [
    "mse2"
   ]
  },
  {
   "cell_type": "code",
   "execution_count": 13,
   "metadata": {},
   "outputs": [
    {
     "data": {
      "image/png": "[encoded data removed]",
      "text/plain": [
       "<Figure size 576x684 with 1 Axes>"
      ]
     },
     "metadata": {
      "needs_background": "light"
     },
     "output_type": "display_data"
    }
   ],
   "source": [
    "shape = shap.TreeExplainer(model)   \n",
    "shape_values = shape.shap_values(X_test)\n",
    "shap.summary_plot(shape_values, X_test, plot_type=\"bar\")"
   ]
  },
  {
   "cell_type": "code",
   "execution_count": 14,
   "metadata": {},
   "outputs": [
    {
     "data": {
      "image/png": "[encoded data removed]",
      "text/plain": [
       "<Figure size 576x396 with 2 Axes>"
      ]
     },
     "metadata": {
      "needs_background": "light"
     },
     "output_type": "display_data"
    }
   ],
   "source": [
    "pred = model.predict(X_test, output_margin=True)\n",
    "\n",
    "explainer = shap.TreeExplainer(model)\n",
    "explanation = explainer(X_test)\n",
    "\n",
    "shap_values = explanation.values\n",
    "# make sure the SHAP values add up to marginal predictions\n",
    "np.abs(shap_values.sum(axis=1) + explanation.base_values - pred).max()\n",
    "shap.plots.beeswarm(explanation)\n"
   ]
  },
  {
   "cell_type": "code",
   "execution_count": null,
   "metadata": {},
   "outputs": [
    {
     "name": "stderr",
     "output_type": "stream",
     "text": [
      "/Users/eudeslocqueville/opt/anaconda3/lib/python3.9/site-packages/statsmodels/tsa/tsatools.py:142: FutureWarning: In a future version of pandas all arguments of concat except for the argument 'objs' will be keyword-only.\n",
      "  x = pd.concat(x[::order], 1)\n"
     ]
    },
    {
     "name": "stdout",
     "output_type": "stream",
     "text": [
      "                            OLS Regression Results                            \n",
      "==============================================================================\n",
      "Dep. Variable:                     xG   R-squared:                       0.727\n",
      "Model:                            OLS   Adj. R-squared:                  0.725\n",
      "Method:                 Least Squares   F-statistic:                     346.9\n",
      "Date:                Sat, 11 May 2024   Prob (F-statistic):               0.00\n",
      "Time:                        18:52:34   Log-Likelihood:                -2014.4\n",
      "No. Observations:                3932   AIC:                             4091.\n",
      "Df Residuals:                    3901   BIC:                             4285.\n",
      "Df Model:                          30                                         \n",
      "Covariance Type:            nonrobust                                         \n",
      "=====================================================================================================\n",
      "                                        coef    std err          t      P>|t|      [0.025      0.975]\n",
      "-----------------------------------------------------------------------------------------------------\n",
      "const                                -0.1658      0.201     -0.826      0.409      -0.560       0.228\n",
      "Poss                                  0.0003      0.002      0.149      0.882      -0.003       0.004\n",
      "GF                                    0.1659      0.007     23.387      0.000       0.152       0.180\n",
      "Fouls Drawn                           0.0005      0.002      0.270      0.787      -0.003       0.004\n",
      "Ball Recoveries                      -0.0007      0.001     -0.798      0.425      -0.003       0.001\n",
      "Aerial Duels Won %                    0.0002      0.001      0.256      0.798      -0.001       0.001\n",
      "Passes Completed %                    0.0020      0.005      0.384      0.701      -0.008       0.012\n",
      "Short Pass Completion %               0.0007      0.003      0.235      0.815      -0.005       0.007\n",
      "Medium Pass Completion %             -0.0006      0.003     -0.211      0.833      -0.006       0.005\n",
      "Long Pass Completion %               -0.0004      0.001     -0.295      0.768      -0.003       0.002\n",
      "Passes into Final Third               0.0024      0.001      2.044      0.041       0.000       0.005\n",
      "Passes into Penalty Area              0.0033      0.004      0.920      0.358      -0.004       0.010\n",
      "Crosses into Penalty Area             0.0047      0.006      0.815      0.415      -0.007       0.016\n",
      "Progressive Passes                   -0.0021      0.001     -1.885      0.060      -0.004    8.46e-05\n",
      "Total Shots                           0.0589      0.003     22.546      0.000       0.054       0.064\n",
      "Shots on Target                       0.0349      0.004      7.769      0.000       0.026       0.044\n",
      "Free Kicks Taken                     -0.0132      0.009     -1.413      0.158      -0.032       0.005\n",
      "Penalty Kicks Attempted               0.6424      0.017     38.850      0.000       0.610       0.675\n",
      "Touches in Defensive Penalty Area    -0.0008      0.001     -1.091      0.275      -0.002       0.001\n",
      "Touches in Defensive Third            0.0002      0.000      0.499      0.617      -0.000       0.001\n",
      "Touches in Midfield Third             0.0002      0.000      1.115      0.265      -0.000       0.001\n",
      "Touches in Attacking Third           -0.0021      0.000     -5.154      0.000      -0.003      -0.001\n",
      "Touches in Attacking Penalty Area     0.0248      0.002     12.434      0.000       0.021       0.029\n",
      "Successful Take_Ons                   0.0022      0.002      1.328      0.184      -0.001       0.005\n",
      "Progressive Carries                   0.0010      0.002      0.621      0.534      -0.002       0.004\n",
      "Carries into Final Third             -0.0030      0.002     -1.737      0.082      -0.006       0.000\n",
      "Carries into Penalty Area            -0.0082      0.004     -2.073      0.038      -0.016      -0.000\n",
      "Through Balls                         0.0459      0.005      9.973      0.000       0.037       0.055\n",
      "Switches                             -0.0059      0.003     -2.226      0.026      -0.011      -0.001\n",
      "Crosses                              -0.0015      0.002     -0.864      0.387      -0.005       0.002\n",
      "Corner Kicks                         -0.0097      0.004     -2.677      0.007      -0.017      -0.003\n",
      "==============================================================================\n",
      "Omnibus:                      389.501   Durbin-Watson:                   2.022\n",
      "Prob(Omnibus):                  0.000   Jarque-Bera (JB):              717.554\n",
      "Skew:                           0.670   Prob(JB):                    1.53e-156\n",
      "Kurtosis:                       4.608   Cond. No.                     1.33e+04\n",
      "==============================================================================\n",
      "\n",
      "Notes:\n",
      "[1] Standard Errors assume that the covariance matrix of the errors is correctly specified.\n",
      "[2] The condition number is large, 1.33e+04. This might indicate that there are\n",
      "strong multicollinearity or other numerical problems.\n"
     ]
    }
   ],
   "source": [
    "\n",
    "X_cons = add_constant(X_train)\n",
    "\n",
    "model = OLS(y_train, X_cons)\n",
    "results = model.fit()\n",
    "print(results.summary())"
   ]
  },
  {
   "cell_type": "code",
   "execution_count": null,
   "metadata": {},
   "outputs": [
    {
     "name": "stderr",
     "output_type": "stream",
     "text": [
      "/Users/eudeslocqueville/opt/anaconda3/lib/python3.9/site-packages/statsmodels/tsa/tsatools.py:142: FutureWarning: In a future version of pandas all arguments of concat except for the argument 'objs' will be keyword-only.\n",
      "  x = pd.concat(x[::order], 1)\n"
     ]
    },
    {
     "data": {
      "text/plain": [
       "0.15237601339533263"
      ]
     },
     "execution_count": 19,
     "metadata": {},
     "output_type": "execute_result"
    }
   ],
   "source": [
    "X_test_cons = add_constant(X_test)\n",
    "\n",
    "y_pred = results.predict(X_test_cons)\n",
    "\n",
    "mse=mean_squared_error(y_test, y_pred)\n",
    "mse\n"
   ]
  },
  {
   "cell_type": "markdown",
   "metadata": {},
   "source": [
    "## Algorithme DU-Shapley "
   ]
  },
  {
   "cell_type": "code",
   "execution_count": 127,
   "metadata": {},
   "outputs": [],
   "source": [
    "\n",
    "\n",
    "\n",
    "def utility_function(dataset):\n",
    "    if dataset.shape[0] == 0:\n",
    "        return 0\n",
    "    dataset= dataset.drop(['Team', 'Opponent'], axis=1)\n",
    "    X_train, X_test, y_train, y_test = train_test_split(dataset.drop(['xG'], axis=1), dataset.xG, test_size=0.2, random_state=123)\n",
    "    model = xgb.XGBRegressor(**params).fit(X_train, y_train)\n",
    "    return model.score(X_test, y_test)\n",
    "\n",
    "def du_shapley(data_coalition, I):\n",
    "    RET = {}\n",
    "    for i in I:\n",
    "        # Exclude the i-th dataset\n",
    "        D_i = data_coalition[i]\n",
    "        D_minus_i = pd.concat([data_coalition[j] for j in I if j != i])\n",
    "\n",
    "        mu_minus_i = len(D_minus_i) // (len(I)-1)\n",
    "        RET_i = 0\n",
    "        \n",
    "        for k in range(len(I)):\n",
    "            # Sample k * mu_minus_i elements from D_minus_i\n",
    "            D_sample = D_minus_i.sample(n = k * mu_minus_i)\n",
    "            # Calculate the marginal gain\n",
    "            marginal_gain = utility_function(pd.concat([D_sample,D_i])) - utility_function(D_sample)\n",
    "            RET_i += marginal_gain\n",
    "        \n",
    "        RET_i /= (len(I)-1)\n",
    "        RET[i] = RET_i\n",
    "    \n",
    "    return RET\n",
    "\n",
    "# I= data.Team.unique()\n",
    "# result = du_shapley(data_coalition, I)\n",
    "# print(result)\n"
   ]
  },
  {
   "cell_type": "code",
   "execution_count": 132,
   "metadata": {},
   "outputs": [],
   "source": [
    "def shapley_value(I, player_index, player_dict):\n",
    "    player_data = player_dict.pop(player_index)\n",
    "    gain = 0\n",
    "\n",
    "    for perm in itertools.permutations(itertools.chain(range(1, player_index), range(player_index + 1, I + 1))): \n",
    "        concat1 = pd.concat([player_dict[j] for j in perm])\n",
    "        concat2 = pd.concat([concat1, player_data])\n",
    "        marginal_gain = utility_function(concat2) - utility_function(concat1)\n",
    "        \n",
    "        gain += marginal_gain * (math.factorial(len(perm)) * math.factorial(I - len(perm) - 1) / math.factorial(I - 1))\n",
    "\n",
    "    return gain / I"
   ]
  },
  {
   "cell_type": "code",
   "execution_count": 134,
   "metadata": {},
   "outputs": [],
   "source": [
    "\n",
    "dict = {\n",
    "    1: data[data['Team'].isin(['Lyon', 'Paris Saint Germain'])],\n",
    "    2: data[data.Team == 'Marseille'],\n",
    "    3: data[data.Team == 'Lille'],\n",
    "    4: data[data['Team'].isin(['Nice', 'Angers', 'Monaco'])],\n",
    "    5: data[data['Team'].isin(['Montpellier', 'Brest', 'Lens', 'Toulouse'])],\n",
    "}\n",
    "\n",
    "for i in range(1, 6):\n",
    "    print(f\"Shapley value for player {i}: {shapley_value(5, i, dict)}\")\n"
   ]
  },
  {
   "cell_type": "code",
   "execution_count": null,
   "metadata": {},
   "outputs": [],
   "source": [
    "du_shapley(dict,[1,2,3,4,5])"
   ]
  },
  {
   "cell_type": "code",
   "execution_count": 103,
   "metadata": {},
   "outputs": [
    {
     "data": {
      "text/plain": [
       "<function dict.keys>"
      ]
     },
     "execution_count": 103,
     "metadata": {},
     "output_type": "execute_result"
    }
   ],
   "source": [
    "def monte_carlo_shapley(I, player_index, player_dict, num_samples=1000):\n",
    "    player_data = player_dict.pop(player_index)\n",
    "    gain = 0\n",
    "\n",
    "    for _ in range(num_samples):\n",
    "        perm = np.random.permutation(range(1, I + 1))\n",
    "        concat1 = pd.concat([player_dict[j] for j in perm])\n",
    "        concat2 = pd.concat([concat1, player_data])\n",
    "        marginal_gain = utility_function(concat2) - utility_function(concat1)\n",
    "        gain += marginal_gain\n",
    "\n",
    "    return gain / num_samples"
   ]
  }
 ],
 "metadata": {
  "kernelspec": {
   "display_name": "Python 3",
   "language": "python",
   "name": "python3"
  },
  "language_info": {
   "codemirror_mode": {
    "name": "ipython",
    "version": 3
   },
   "file_extension": ".py",
   "mimetype": "text/x-python",
   "name": "python",
   "nbconvert_exporter": "python",
   "pygments_lexer": "ipython3",
   "version": "3.9.7"
  },
  "orig_nbformat": 4
 },
 "nbformat": 4,
 "nbformat_minor": 2
}
